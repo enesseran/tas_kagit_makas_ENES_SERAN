{
 "cells": [
  {
   "cell_type": "code",
   "execution_count": null,
   "id": "ed0ee768",
   "metadata": {},
   "outputs": [
    {
     "name": "stdout",
     "output_type": "stream",
     "text": [
      "Taş, Kağıt, Makas Oyununa Hoşgeldin! Bakalım bana karşı kazanabilecek misin!!!\n",
      "\n",
      "Oyuna başlamadan önce kuralları hatırlatmak istiyorum. Oyunda Taş, Kağıt ve Makas olarak seçimler yapacağız. Bu seçimlerde:\n",
      "\n",
      " - Makas Kağıdı Keser\n",
      " - Kağıt Taşı Sarar\n",
      " - Taş Makası Kırar\n",
      "\n",
      "Aynı seçimler gelirse berabere kalır. Toplam 3 tur oynayacağız ve 2 olan kazanacak.\n",
      "\n"
     ]
    }
   ],
   "source": [
    "import random\n",
    "\n",
    "def tas_kagit_makas_ENES_SERAN():\n",
    "    \n",
    "    liste_secenekler = [\"taş\", \"kağıt\", \"makas\"]\n",
    "    \n",
    "    print(\"Taş, Kağıt, Makas Oyununa Hoşgeldin! Bakalım bana karşı kazanabilecek misin!!!\\n\")\n",
    "    print(\"Oyuna başlamadan önce kuralları hatırlatmak istiyorum. Oyunda Taş, Kağıt ve Makas olarak seçimler yapacağız. Bu seçimlerde:\\n\")\n",
    "    print(\" - Makas Kağıdı Keser\")\n",
    "    print(\" - Kağıt Taşı Sarar\")\n",
    "    print(\" - Taş Makası Kırar\\n\")\n",
    "    print(\"Aynı seçimler gelirse berabere kalır. Toplam 3 tur oynayacağız ve 2 olan kazanacak.\\n\")\n",
    "\n",
    "    oyun_sayisi = 0\n",
    "    oyuncu_toplam_win = 0\n",
    "    bilgisayar_toplam_win = 0\n",
    "\n",
    "    while True:\n",
    "        oynanan_tur_sayisi = 0\n",
    "        oyuncu_tur_win = 0\n",
    "        bilgisayar_tur_win = 0\n",
    "\n",
    "        while oynanan_tur_sayisi < 3:\n",
    "            \n",
    "            oyuncu_secimi = input(\"Seçimini yap (taş, kağıt, makas): \")\n",
    "            \n",
    "            bilgisayar_secimi = random.choice(liste_secenekler)\n",
    "            print(f\"Bilgisayarın seçimi: {bilgisayar_secimi}\\n\")\n",
    "\n",
    "            if oyuncu_secimi not in liste_secenekler:\n",
    "                print(\"Geçersiz seçim yaptın. Lütfen tekrar seçim yap.\\n\")\n",
    "                continue\n",
    "\n",
    "            if (oyuncu_secimi == \"taş\" and bilgisayar_secimi == \"makas\") or (oyuncu_secimi == \"kağıt\" and bilgisayar_secimi == \"taş\") or (oyuncu_secimi == \"makas\" and bilgisayar_secimi == \"kağıt\"):\n",
    "                print(\"Sen Kazandın!\\n\")\n",
    "                oyuncu_tur_win += 1\n",
    "           \n",
    "            elif oyuncu_secimi == bilgisayar_secimi:\n",
    "                print(\"Berabere!\\n\")\n",
    "            \n",
    "            else:\n",
    "                print(\"Kaybettin!\\n\")\n",
    "                bilgisayar_tur_win += 1\n",
    "\n",
    "            oynanan_tur_sayisi += 1\n",
    "\n",
    "        if oyuncu_tur_win >= 2:\n",
    "            oyuncu_toplam_win += 1\n",
    "        \n",
    "        elif bilgisayar_tur_win >= 2:\n",
    "            bilgisayar_toplam_win += 1\n",
    "\n",
    "        oyun_sayisi += 1\n",
    "        print(f\"Oynanan Oyun Sayısı: {oyun_sayisi}\")\n",
    "        print(f\"Oyuncu Galibiyet Sayısı: {oyuncu_toplam_win}\")\n",
    "        print(f\"Bilgisayar Galibiyet Sayısı: {bilgisayar_toplam_win}\\n\")\n",
    "\n",
    "        devam = input(\"Tekrar oynamak ister misin? (evet/hayır): \")\n",
    "        if devam != \"evet\":\n",
    "            print(\"Hoşçakal!\")\n",
    "            break\n",
    "\n",
    "tas_kagit_makas_ENES_SERAN()\n",
    "\n",
    "                "
   ]
  },
  {
   "cell_type": "code",
   "execution_count": null,
   "id": "6e54c24a",
   "metadata": {},
   "outputs": [],
   "source": []
  }
 ],
 "metadata": {
  "kernelspec": {
   "display_name": "Python 3 (ipykernel)",
   "language": "python",
   "name": "python3"
  },
  "language_info": {
   "codemirror_mode": {
    "name": "ipython",
    "version": 3
   },
   "file_extension": ".py",
   "mimetype": "text/x-python",
   "name": "python",
   "nbconvert_exporter": "python",
   "pygments_lexer": "ipython3",
   "version": "3.11.5"
  }
 },
 "nbformat": 4,
 "nbformat_minor": 5
}
